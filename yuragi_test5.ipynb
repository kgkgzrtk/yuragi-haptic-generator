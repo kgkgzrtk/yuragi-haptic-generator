{
  "nbformat": 4,
  "nbformat_minor": 0,
  "metadata": {
    "colab": {
      "provenance": [],
      "authorship_tag": "ABX9TyP1mjp15E5vTi3qSZKUUjkP",
      "include_colab_link": true
    },
    "kernelspec": {
      "name": "python3",
      "display_name": "Python 3"
    },
    "language_info": {
      "name": "python"
    }
  },
  "cells": [
    {
      "cell_type": "markdown",
      "metadata": {
        "id": "view-in-github",
        "colab_type": "text"
      },
      "source": [
        "<a href=\"https://colab.research.google.com/github/fasl/yuragi-haptic-generator/blob/main/yuragi_test5.ipynb\" target=\"_parent\"><img src=\"https://colab.research.google.com/assets/colab-badge.svg\" alt=\"Open In Colab\"/></a>"
      ]
    },
    {
      "cell_type": "code",
      "execution_count": null,
      "metadata": {
        "id": "WhqicriUGR2b"
      },
      "outputs": [],
      "source": [
        "from google.colab import drive\n",
        "drive.mount('/content/drive')\n",
        "\n",
        "# Copy the zip file from Drive to the Colab environment\n",
        "!cp \"/content/yuragi-haptic-generator.zip\" .\n",
        "\n",
        "# Unzip the copied file\n",
        "!unzip ./yuragi-haptic-generator.zip\n",
        "\n",
        "#!cp -r /content/yuragi-haptic-generator/ .\n",
        "\n"
      ]
    },
    {
      "cell_type": "code",
      "source": [
        "%cd yuragi-haptic-generator-main\n",
        "!pwd\n",
        "!curl -LsSf https://astral.sh/uv/install.sh | sh"
      ],
      "metadata": {
        "id": "u1I6tt_1jUOf"
      },
      "execution_count": null,
      "outputs": []
    },
    {
      "cell_type": "code",
      "source": [
        "# Python仮想環境と依存関係のインストール\n",
        "#!uv venv\n",
        "#!source .venv/bin/activate  # Windows: .venv\\Scripts\\activate\n",
        "!uv pip install -e .\n",
        "\n",
        "# 開発用依存関係を含める場合\n",
        "!uv pip install -e \".[dev,test]\""
      ],
      "metadata": {
        "id": "_sRWKySXjp29"
      },
      "execution_count": null,
      "outputs": []
    },
    {
      "cell_type": "code",
      "source": [
        "!pwd\n",
        "%cd /content/yuragi-haptic-generator-main/backend\n",
        "!pwd\n",
        "\n",
        "# install protaudio\n",
        "!sudo apt install portaudio19-dev\n",
        "!pip install sounddevice\n",
        "\n",
        "# 依存関係のインストール\n",
        "!uv pip install -e \".[dev,api]\"\n",
        "\n",
        "# サーバーの起動\n",
        "!uv run uvicorn src.main:app --reload"
      ],
      "metadata": {
        "colab": {
          "base_uri": "https://localhost:8080/"
        },
        "id": "mcqZ6fWEjy0X",
        "outputId": "4749d8c1-21b8-426a-b695-f362540413e5"
      },
      "execution_count": null,
      "outputs": [
        {
          "output_type": "stream",
          "name": "stdout",
          "text": [
            "/content/yuragi-haptic-generator-main/frontend\n",
            "/content/yuragi-haptic-generator-main/backend\n",
            "/content/yuragi-haptic-generator-main/backend\n",
            "Reading package lists... Done\n",
            "Building dependency tree... Done\n",
            "Reading state information... Done\n",
            "The following additional packages will be installed:\n",
            "  libportaudio2 libportaudiocpp0\n",
            "Suggested packages:\n",
            "  portaudio19-doc\n",
            "The following NEW packages will be installed:\n",
            "  libportaudio2 libportaudiocpp0 portaudio19-dev\n",
            "0 upgraded, 3 newly installed, 0 to remove and 35 not upgraded.\n",
            "Need to get 188 kB of archives.\n",
            "After this operation, 927 kB of additional disk space will be used.\n",
            "Get:1 http://archive.ubuntu.com/ubuntu jammy/universe amd64 libportaudio2 amd64 19.6.0-1.1 [65.3 kB]\n",
            "Get:2 http://archive.ubuntu.com/ubuntu jammy/universe amd64 libportaudiocpp0 amd64 19.6.0-1.1 [16.1 kB]\n",
            "Get:3 http://archive.ubuntu.com/ubuntu jammy/universe amd64 portaudio19-dev amd64 19.6.0-1.1 [106 kB]\n",
            "Fetched 188 kB in 0s (2,002 kB/s)\n",
            "debconf: unable to initialize frontend: Dialog\n",
            "debconf: (No usable dialog-like program is installed, so the dialog based frontend cannot be used. at /usr/share/perl5/Debconf/FrontEnd/Dialog.pm line 78, <> line 3.)\n",
            "debconf: falling back to frontend: Readline\n",
            "debconf: unable to initialize frontend: Readline\n",
            "debconf: (This frontend requires a controlling tty.)\n",
            "debconf: falling back to frontend: Teletype\n",
            "dpkg-preconfigure: unable to re-open stdin: \n",
            "Selecting previously unselected package libportaudio2:amd64.\n",
            "(Reading database ... 126284 files and directories currently installed.)\n",
            "Preparing to unpack .../libportaudio2_19.6.0-1.1_amd64.deb ...\n",
            "Unpacking libportaudio2:amd64 (19.6.0-1.1) ...\n",
            "Selecting previously unselected package libportaudiocpp0:amd64.\n",
            "Preparing to unpack .../libportaudiocpp0_19.6.0-1.1_amd64.deb ...\n",
            "Unpacking libportaudiocpp0:amd64 (19.6.0-1.1) ...\n",
            "Selecting previously unselected package portaudio19-dev:amd64.\n",
            "Preparing to unpack .../portaudio19-dev_19.6.0-1.1_amd64.deb ...\n",
            "Unpacking portaudio19-dev:amd64 (19.6.0-1.1) ...\n",
            "Setting up libportaudio2:amd64 (19.6.0-1.1) ...\n",
            "Setting up libportaudiocpp0:amd64 (19.6.0-1.1) ...\n",
            "Setting up portaudio19-dev:amd64 (19.6.0-1.1) ...\n",
            "Processing triggers for libc-bin (2.35-0ubuntu3.8) ...\n",
            "/sbin/ldconfig.real: /usr/local/lib/libur_adapter_level_zero_v2.so.0 is not a symbolic link\n",
            "\n",
            "/sbin/ldconfig.real: /usr/local/lib/libur_loader.so.0 is not a symbolic link\n",
            "\n",
            "/sbin/ldconfig.real: /usr/local/lib/libtbbbind.so.3 is not a symbolic link\n",
            "\n",
            "/sbin/ldconfig.real: /usr/local/lib/libtcm_debug.so.1 is not a symbolic link\n",
            "\n",
            "/sbin/ldconfig.real: /usr/local/lib/libtcm.so.1 is not a symbolic link\n",
            "\n",
            "/sbin/ldconfig.real: /usr/local/lib/libumf.so.0 is not a symbolic link\n",
            "\n",
            "/sbin/ldconfig.real: /usr/local/lib/libtbbmalloc.so.2 is not a symbolic link\n",
            "\n",
            "/sbin/ldconfig.real: /usr/local/lib/libur_adapter_opencl.so.0 is not a symbolic link\n",
            "\n",
            "/sbin/ldconfig.real: /usr/local/lib/libur_adapter_level_zero.so.0 is not a symbolic link\n",
            "\n",
            "/sbin/ldconfig.real: /usr/local/lib/libtbbbind_2_5.so.3 is not a symbolic link\n",
            "\n",
            "/sbin/ldconfig.real: /usr/local/lib/libtbbmalloc_proxy.so.2 is not a symbolic link\n",
            "\n",
            "/sbin/ldconfig.real: /usr/local/lib/libtbbbind_2_0.so.3 is not a symbolic link\n",
            "\n",
            "/sbin/ldconfig.real: /usr/local/lib/libtbb.so.12 is not a symbolic link\n",
            "\n",
            "/sbin/ldconfig.real: /usr/local/lib/libhwloc.so.15 is not a symbolic link\n",
            "\n",
            "Requirement already satisfied: sounddevice in /usr/local/lib/python3.11/dist-packages (0.5.2)\n",
            "Requirement already satisfied: CFFI>=1.0 in /usr/local/lib/python3.11/dist-packages (from sounddevice) (1.17.1)\n",
            "Requirement already satisfied: pycparser in /usr/local/lib/python3.11/dist-packages (from CFFI>=1.0->sounddevice) (2.22)\n",
            "\u001b[2mUsing Python 3.11.13 environment at: /usr\u001b[0m\n",
            "\u001b[2K\u001b[2mResolved \u001b[1m38 packages\u001b[0m \u001b[2min 63ms\u001b[0m\u001b[0m\n",
            "\u001b[2K   \u001b[36m\u001b[1mBuilding\u001b[0m\u001b[39m haptic-system\u001b[2m @ file:///content/yuragi-haptic-generator-main/backend\u001b[0m\n",
            "\u001b[2K\u001b[1A   \u001b[36m\u001b[1mBuilding\u001b[0m\u001b[39m haptic-system\u001b[2m @ file:///content/yuragi-haptic-generator-main/backend\u001b[0m\n",
            "\u001b[2K\u001b[1A   \u001b[36m\u001b[1mBuilding\u001b[0m\u001b[39m haptic-system\u001b[2m @ file:///content/yuragi-haptic-generator-main/backend\u001b[0m\n",
            "\u001b[2K\u001b[1A   \u001b[36m\u001b[1mBuilding\u001b[0m\u001b[39m haptic-system\u001b[2m @ file:///content/yuragi-haptic-generator-main/backend\u001b[0m\n",
            "\u001b[2K\u001b[1A      \u001b[32m\u001b[1mBuilt\u001b[0m\u001b[39m haptic-system\u001b[2m @ file:///content/yuragi-haptic-generator-main/backend\u001b[0m\n",
            "\u001b[2K\u001b[2mPrepared \u001b[1m1 package\u001b[0m \u001b[2min 414ms\u001b[0m\u001b[0m\n",
            "\u001b[2mUninstalled \u001b[1m1 package\u001b[0m \u001b[2min 0.40ms\u001b[0m\u001b[0m\n",
            "\u001b[2K\u001b[2mInstalled \u001b[1m1 package\u001b[0m \u001b[2min 0.90ms\u001b[0m\u001b[0m\n",
            " \u001b[33m~\u001b[39m \u001b[1mhaptic-system\u001b[0m\u001b[2m==0.1.0 (from file:///content/yuragi-haptic-generator-main/backend)\u001b[0m\n",
            "\u001b[32mINFO\u001b[0m:     Will watch for changes in these directories: ['/content/yuragi-haptic-generator-main/backend']\n",
            "\u001b[32mINFO\u001b[0m:     Uvicorn running on \u001b[1mhttp://127.0.0.1:8000\u001b[0m (Press CTRL+C to quit)\n",
            "\u001b[32mINFO\u001b[0m:     Started reloader process [\u001b[36m\u001b[1m20963\u001b[0m] using \u001b[36m\u001b[1mWatchFiles\u001b[0m\n",
            "2025-08-08 12:35:09,813 - src.config.settings - INFO - Application starting\n",
            "Available devices: 0\n",
            "2025-08-08 12:35:09,813 - src.main - INFO - HapticController initialized with sample_rate=44100, block_size=512\n",
            "2025-08-08 12:35:09,813 - src.main - INFO - CORS configured with origins: ['http://localhost:3000']\n",
            "\u001b[32mINFO\u001b[0m:     Started server process [\u001b[36m20969\u001b[0m]\n",
            "\u001b[32mINFO\u001b[0m:     Waiting for application startup.\n",
            "2025-08-08 12:35:09,825 - src.main - INFO - Starting application...\n",
            "2025-08-08 12:35:09,825 - src.main - INFO - Background waveform streaming task started\n",
            "\u001b[32mINFO\u001b[0m:     Application startup complete.\n"
          ]
        }
      ]
    },
    {
      "cell_type": "code",
      "source": [
        "# pnpmのインストール（未インストールの場合）\n",
        "!sudo apt-get update\n",
        "!curl -fsSL https://get.pnpm.io/install.sh | sh -\n",
        "!pwd\n",
        "%cd /content/yuragi-haptic-generator-main/frontend\n",
        "!pnpm install\n",
        "!pnpm dev"
      ],
      "metadata": {
        "id": "WwM26-sfkBfX"
      },
      "execution_count": null,
      "outputs": []
    }
  ]
}